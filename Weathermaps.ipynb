{
 "cells": [
  {
   "cell_type": "code",
   "execution_count": 12,
   "metadata": {},
   "outputs": [
    {
     "name": "stdout",
     "output_type": "stream",
     "text": [
      "The autoreload extension is already loaded. To reload it, use:\n",
      "  %reload_ext autoreload\n"
     ]
    }
   ],
   "source": [
    "import pysftp\n",
    "import xarray as xr\n",
    "import numpy as np\n",
    "#import cartopy as cy\n",
    "import matplotlib.pyplot as plt\n",
    "\n",
    "from datetime import datetime\n",
    "#from cartopy.mpl.gridliner import LATITUDE_FORMATTER, LONGITUDE_FORMATTER\n",
    "\n",
    "import functions as fct\n",
    "%load_ext autoreload\n",
    "%autoreload 2"
   ]
  },
  {
   "cell_type": "raw",
   "metadata": {},
   "source": [
    "srv = pysftp.Connection(host=\"sftp://franzihe@login.uio.no/uio/kant/geo-metos-u1/franzihe/\", username=\"franzihe\", private_key=\"/home/franzihe/.ssh/id_rsa\")"
   ]
  },
  {
   "cell_type": "code",
   "execution_count": 13,
   "metadata": {},
   "outputs": [],
   "source": [
    "# Set figure size for all our plots\n",
    "plt.rcParams['figure.figsize'] = [10., 8.]\n",
    "plt.rcParams['font.family'] = 'sans-serif'\n",
    "plt.rcParams.update({'font.size': 22})"
   ]
  },
  {
   "cell_type": "code",
   "execution_count": 14,
   "metadata": {
    "lines_to_next_cell": 2
   },
   "outputs": [
    {
     "name": "stdout",
     "output_type": "stream",
     "text": [
      "date and time = 20200220 13\n"
     ]
    }
   ],
   "source": [
    "# datetime object containing current date and time\n",
    "now = datetime.now()\n",
    "# dd/mm/YY H:M:S\n",
    "date = now.strftime(\"%Y%m%d\")\n",
    "time = now.strftime('%H')\n",
    "print(\"date and time =\", date, time)\t"
   ]
  },
  {
   "cell_type": "code",
   "execution_count": 15,
   "metadata": {},
   "outputs": [],
   "source": [
    "ini_time = '09'"
   ]
  },
  {
   "cell_type": "code",
   "execution_count": 16,
   "metadata": {},
   "outputs": [],
   "source": [
    "savefig = 0   # 1=yes, 0=no\n",
    "form = 'png'\n",
    "\n",
    "# File direction where figures should be saved (to be changed)\n",
    "#figdir = 'sftp://franzihe@login.uio.no/uio/kant/geo-metos-u1/franzihe/www_docs'\n",
    "figdir = '/home/franzihe/Documents/Figures/Weathermaps'"
   ]
  },
  {
   "cell_type": "code",
   "execution_count": 17,
   "metadata": {},
   "outputs": [],
   "source": [
    "# Pick out area around 400km to Andenes\n",
    "# Andøya Space Center Coordinates: 69.2950N, 16.0300E\n",
    "# to be changed to the location of interest, define the lower left latitude and longitude,\n",
    "# upper right corner latitude and longitude\n",
    "\n",
    "#andenes_lat = 69.2950; andenes_lon = 16.03\n",
    "#lower_lat = 65.69; lower_lon = 5.8\n",
    "#upper_lat = 72.9;  upper_lon = 26.26\n",
    "#lower_lat = 65.; lower_lon = 1.24\n",
    "#upper_lat = 75;  upper_lon = 26.26"
   ]
  },
  {
   "cell_type": "code",
   "execution_count": null,
   "metadata": {},
   "outputs": [],
   "source": [
    "# Nordmela Coordinates: 69.1358N, 15.6776E\n",
    "andenes_lat = 69.135840; andenes_lon = 15.677645\n",
    "lower_lat = 64.83; lower_lon = 0.98\n",
    "upper_lat = 74.85;  upper_lon = 25.85"
   ]
  },
  {
   "cell_type": "code",
   "execution_count": 19,
   "metadata": {},
   "outputs": [],
   "source": [
    "#  Open the netCDF file containing the input data.\n",
    "# MEPS forecasts (Norway without Svalbard) from recent initialisations: https://thredds.met.no/thredds/catalog/mepslatest/catalog.html\n",
    "# AROME Arctic forecast (Arctic including Svalbard) can be found in the \n",
    "# archive: https://thredds.met.no/thredds/catalog/aromearcticarchive/catalog.html\n",
    "# latests: https://thredds.met.no/thredds/catalog/aromearcticlatest/catalog.html\n",
    "\n",
    "#thredds = 'https://thredds.met.no/thredds/dodsC/mepslatest/meps_det_2_5km_%sT%sZ.ncml' %(date, ini_time)   # deterministic forecast\n",
    "thredds = ''\n",
    "fnx = xr.open_dataset(thredds, decode_times  = True, use_cftime = True)"
   ]
  },
  {
   "cell_type": "code",
   "execution_count": 20,
   "metadata": {},
   "outputs": [],
   "source": [
    "lower_x, lower_y = fct.find_yx(fnx.latitude, fnx.longitude, lower_lat, lower_lon)\n",
    "upper_x, upper_y = fct.find_yx(fnx.latitude, fnx.longitude, upper_lat, upper_lon)\n",
    "andenes_x, andenes_y = fct.find_yx(fnx.latitude, fnx.longitude, andenes_lat, andenes_lon)"
   ]
  },
  {
   "cell_type": "code",
   "execution_count": null,
   "metadata": {},
   "outputs": [],
   "source": []
  },
  {
   "cell_type": "raw",
   "metadata": {},
   "source": [
    "forecast_in_hours = '03'"
   ]
  },
  {
   "cell_type": "code",
   "execution_count": 21,
   "metadata": {},
   "outputs": [
    {
     "name": "stdout",
     "output_type": "stream",
     "text": [
      "plot saved: /home/franzihe/Documents/Figures/Weathermaps/700hPa_RH_T/Andoya/meps_2_5_km_20200220T09Z_00.png\n"
     ]
    },
    {
     "name": "stderr",
     "output_type": "stream",
     "text": [
      "/home/franzihe/anaconda3/envs/weathermap/lib/python3.7/site-packages/cartopy/mpl/geoaxes.py:1366: UserWarning: No contour levels were found within the data range.\n",
      "  result = matplotlib.axes.Axes.contour(self, *args, **kwargs)\n"
     ]
    },
    {
     "name": "stdout",
     "output_type": "stream",
     "text": [
      "plot saved: /home/franzihe/Documents/Figures/Weathermaps/MSLP_Thickness_Jet/Andoya/meps_2_5_km_20200220T09Z_00.png\n",
      "plot saved: /home/franzihe/Documents/Figures/Weathermaps/850hPa_U_T/Andoya/meps_2_5_km_20200220T09Z_00.png\n",
      "plot saved: /home/franzihe/Documents/Figures/Weathermaps/700hPa_RH_T/Norway/meps_2_5_km_20200220T09Z_00.png\n",
      "plot saved: /home/franzihe/Documents/Figures/Weathermaps/MSLP_Thickness_Jet/Norway/meps_2_5_km_20200220T09Z_00.png\n",
      "plot saved: /home/franzihe/Documents/Figures/Weathermaps/850hPa_U_T/Norway/meps_2_5_km_20200220T09Z_00.png\n",
      "plot saved: /home/franzihe/Documents/Figures/Weathermaps/700hPa_RH_T/Andoya/meps_2_5_km_20200220T09Z_03.png\n"
     ]
    },
    {
     "name": "stderr",
     "output_type": "stream",
     "text": [
      "/home/franzihe/anaconda3/envs/weathermap/lib/python3.7/site-packages/cartopy/mpl/geoaxes.py:1366: UserWarning: No contour levels were found within the data range.\n",
      "  result = matplotlib.axes.Axes.contour(self, *args, **kwargs)\n"
     ]
    },
    {
     "name": "stdout",
     "output_type": "stream",
     "text": [
      "plot saved: /home/franzihe/Documents/Figures/Weathermaps/MSLP_Thickness_Jet/Andoya/meps_2_5_km_20200220T09Z_03.png\n",
      "plot saved: /home/franzihe/Documents/Figures/Weathermaps/850hPa_U_T/Andoya/meps_2_5_km_20200220T09Z_03.png\n",
      "plot saved: /home/franzihe/Documents/Figures/Weathermaps/700hPa_RH_T/Norway/meps_2_5_km_20200220T09Z_03.png\n",
      "plot saved: /home/franzihe/Documents/Figures/Weathermaps/MSLP_Thickness_Jet/Norway/meps_2_5_km_20200220T09Z_03.png\n",
      "plot saved: /home/franzihe/Documents/Figures/Weathermaps/850hPa_U_T/Norway/meps_2_5_km_20200220T09Z_03.png\n",
      "plot saved: /home/franzihe/Documents/Figures/Weathermaps/700hPa_RH_T/Andoya/meps_2_5_km_20200220T09Z_06.png\n"
     ]
    },
    {
     "name": "stderr",
     "output_type": "stream",
     "text": [
      "/home/franzihe/anaconda3/envs/weathermap/lib/python3.7/site-packages/cartopy/mpl/geoaxes.py:1366: UserWarning: No contour levels were found within the data range.\n",
      "  result = matplotlib.axes.Axes.contour(self, *args, **kwargs)\n"
     ]
    },
    {
     "name": "stdout",
     "output_type": "stream",
     "text": [
      "plot saved: /home/franzihe/Documents/Figures/Weathermaps/MSLP_Thickness_Jet/Andoya/meps_2_5_km_20200220T09Z_06.png\n",
      "plot saved: /home/franzihe/Documents/Figures/Weathermaps/850hPa_U_T/Andoya/meps_2_5_km_20200220T09Z_06.png\n",
      "plot saved: /home/franzihe/Documents/Figures/Weathermaps/700hPa_RH_T/Norway/meps_2_5_km_20200220T09Z_06.png\n",
      "plot saved: /home/franzihe/Documents/Figures/Weathermaps/MSLP_Thickness_Jet/Norway/meps_2_5_km_20200220T09Z_06.png\n",
      "plot saved: /home/franzihe/Documents/Figures/Weathermaps/850hPa_U_T/Norway/meps_2_5_km_20200220T09Z_06.png\n",
      "plot saved: /home/franzihe/Documents/Figures/Weathermaps/700hPa_RH_T/Andoya/meps_2_5_km_20200220T09Z_09.png\n"
     ]
    },
    {
     "name": "stderr",
     "output_type": "stream",
     "text": [
      "/home/franzihe/anaconda3/envs/weathermap/lib/python3.7/site-packages/cartopy/mpl/geoaxes.py:1366: UserWarning: No contour levels were found within the data range.\n",
      "  result = matplotlib.axes.Axes.contour(self, *args, **kwargs)\n"
     ]
    },
    {
     "name": "stdout",
     "output_type": "stream",
     "text": [
      "plot saved: /home/franzihe/Documents/Figures/Weathermaps/MSLP_Thickness_Jet/Andoya/meps_2_5_km_20200220T09Z_09.png\n",
      "plot saved: /home/franzihe/Documents/Figures/Weathermaps/850hPa_U_T/Andoya/meps_2_5_km_20200220T09Z_09.png\n",
      "plot saved: /home/franzihe/Documents/Figures/Weathermaps/700hPa_RH_T/Norway/meps_2_5_km_20200220T09Z_09.png\n"
     ]
    },
    {
     "name": "stderr",
     "output_type": "stream",
     "text": [
      "/home/franzihe/anaconda3/envs/weathermap/lib/python3.7/site-packages/cartopy/mpl/geoaxes.py:1366: UserWarning: No contour levels were found within the data range.\n",
      "  result = matplotlib.axes.Axes.contour(self, *args, **kwargs)\n"
     ]
    },
    {
     "name": "stdout",
     "output_type": "stream",
     "text": [
      "plot saved: /home/franzihe/Documents/Figures/Weathermaps/MSLP_Thickness_Jet/Norway/meps_2_5_km_20200220T09Z_09.png\n",
      "plot saved: /home/franzihe/Documents/Figures/Weathermaps/850hPa_U_T/Norway/meps_2_5_km_20200220T09Z_09.png\n",
      "plot saved: /home/franzihe/Documents/Figures/Weathermaps/700hPa_RH_T/Andoya/meps_2_5_km_20200220T09Z_12.png\n"
     ]
    },
    {
     "name": "stderr",
     "output_type": "stream",
     "text": [
      "/home/franzihe/anaconda3/envs/weathermap/lib/python3.7/site-packages/cartopy/mpl/geoaxes.py:1366: UserWarning: No contour levels were found within the data range.\n",
      "  result = matplotlib.axes.Axes.contour(self, *args, **kwargs)\n"
     ]
    },
    {
     "name": "stdout",
     "output_type": "stream",
     "text": [
      "plot saved: /home/franzihe/Documents/Figures/Weathermaps/MSLP_Thickness_Jet/Andoya/meps_2_5_km_20200220T09Z_12.png\n",
      "plot saved: /home/franzihe/Documents/Figures/Weathermaps/850hPa_U_T/Andoya/meps_2_5_km_20200220T09Z_12.png\n",
      "plot saved: /home/franzihe/Documents/Figures/Weathermaps/700hPa_RH_T/Norway/meps_2_5_km_20200220T09Z_12.png\n"
     ]
    },
    {
     "name": "stderr",
     "output_type": "stream",
     "text": [
      "/home/franzihe/anaconda3/envs/weathermap/lib/python3.7/site-packages/cartopy/mpl/geoaxes.py:1366: UserWarning: No contour levels were found within the data range.\n",
      "  result = matplotlib.axes.Axes.contour(self, *args, **kwargs)\n"
     ]
    },
    {
     "name": "stdout",
     "output_type": "stream",
     "text": [
      "plot saved: /home/franzihe/Documents/Figures/Weathermaps/MSLP_Thickness_Jet/Norway/meps_2_5_km_20200220T09Z_12.png\n",
      "plot saved: /home/franzihe/Documents/Figures/Weathermaps/850hPa_U_T/Norway/meps_2_5_km_20200220T09Z_12.png\n",
      "plot saved: /home/franzihe/Documents/Figures/Weathermaps/700hPa_RH_T/Andoya/meps_2_5_km_20200220T09Z_15.png\n"
     ]
    },
    {
     "name": "stderr",
     "output_type": "stream",
     "text": [
      "/home/franzihe/anaconda3/envs/weathermap/lib/python3.7/site-packages/cartopy/mpl/geoaxes.py:1366: UserWarning: No contour levels were found within the data range.\n",
      "  result = matplotlib.axes.Axes.contour(self, *args, **kwargs)\n"
     ]
    },
    {
     "name": "stdout",
     "output_type": "stream",
     "text": [
      "plot saved: /home/franzihe/Documents/Figures/Weathermaps/MSLP_Thickness_Jet/Andoya/meps_2_5_km_20200220T09Z_15.png\n",
      "plot saved: /home/franzihe/Documents/Figures/Weathermaps/850hPa_U_T/Andoya/meps_2_5_km_20200220T09Z_15.png\n",
      "plot saved: /home/franzihe/Documents/Figures/Weathermaps/700hPa_RH_T/Norway/meps_2_5_km_20200220T09Z_15.png\n"
     ]
    },
    {
     "name": "stderr",
     "output_type": "stream",
     "text": [
      "/home/franzihe/anaconda3/envs/weathermap/lib/python3.7/site-packages/cartopy/mpl/geoaxes.py:1366: UserWarning: No contour levels were found within the data range.\n",
      "  result = matplotlib.axes.Axes.contour(self, *args, **kwargs)\n"
     ]
    },
    {
     "name": "stdout",
     "output_type": "stream",
     "text": [
      "plot saved: /home/franzihe/Documents/Figures/Weathermaps/MSLP_Thickness_Jet/Norway/meps_2_5_km_20200220T09Z_15.png\n",
      "plot saved: /home/franzihe/Documents/Figures/Weathermaps/850hPa_U_T/Norway/meps_2_5_km_20200220T09Z_15.png\n",
      "plot saved: /home/franzihe/Documents/Figures/Weathermaps/700hPa_RH_T/Andoya/meps_2_5_km_20200220T09Z_18.png\n"
     ]
    },
    {
     "name": "stderr",
     "output_type": "stream",
     "text": [
      "/home/franzihe/anaconda3/envs/weathermap/lib/python3.7/site-packages/cartopy/mpl/geoaxes.py:1366: UserWarning: No contour levels were found within the data range.\n",
      "  result = matplotlib.axes.Axes.contour(self, *args, **kwargs)\n"
     ]
    },
    {
     "name": "stdout",
     "output_type": "stream",
     "text": [
      "plot saved: /home/franzihe/Documents/Figures/Weathermaps/MSLP_Thickness_Jet/Andoya/meps_2_5_km_20200220T09Z_18.png\n",
      "plot saved: /home/franzihe/Documents/Figures/Weathermaps/850hPa_U_T/Andoya/meps_2_5_km_20200220T09Z_18.png\n",
      "plot saved: /home/franzihe/Documents/Figures/Weathermaps/700hPa_RH_T/Norway/meps_2_5_km_20200220T09Z_18.png\n"
     ]
    },
    {
     "name": "stderr",
     "output_type": "stream",
     "text": [
      "/home/franzihe/anaconda3/envs/weathermap/lib/python3.7/site-packages/cartopy/mpl/geoaxes.py:1366: UserWarning: No contour levels were found within the data range.\n",
      "  result = matplotlib.axes.Axes.contour(self, *args, **kwargs)\n"
     ]
    },
    {
     "name": "stdout",
     "output_type": "stream",
     "text": [
      "plot saved: /home/franzihe/Documents/Figures/Weathermaps/MSLP_Thickness_Jet/Norway/meps_2_5_km_20200220T09Z_18.png\n",
      "plot saved: /home/franzihe/Documents/Figures/Weathermaps/850hPa_U_T/Norway/meps_2_5_km_20200220T09Z_18.png\n",
      "plot saved: /home/franzihe/Documents/Figures/Weathermaps/700hPa_RH_T/Andoya/meps_2_5_km_20200220T09Z_21.png\n"
     ]
    },
    {
     "name": "stderr",
     "output_type": "stream",
     "text": [
      "/home/franzihe/anaconda3/envs/weathermap/lib/python3.7/site-packages/cartopy/mpl/geoaxes.py:1366: UserWarning: No contour levels were found within the data range.\n",
      "  result = matplotlib.axes.Axes.contour(self, *args, **kwargs)\n"
     ]
    },
    {
     "name": "stdout",
     "output_type": "stream",
     "text": [
      "plot saved: /home/franzihe/Documents/Figures/Weathermaps/MSLP_Thickness_Jet/Andoya/meps_2_5_km_20200220T09Z_21.png\n",
      "plot saved: /home/franzihe/Documents/Figures/Weathermaps/850hPa_U_T/Andoya/meps_2_5_km_20200220T09Z_21.png\n",
      "plot saved: /home/franzihe/Documents/Figures/Weathermaps/700hPa_RH_T/Norway/meps_2_5_km_20200220T09Z_21.png\n"
     ]
    },
    {
     "name": "stderr",
     "output_type": "stream",
     "text": [
      "/home/franzihe/anaconda3/envs/weathermap/lib/python3.7/site-packages/cartopy/mpl/geoaxes.py:1366: UserWarning: No contour levels were found within the data range.\n",
      "  result = matplotlib.axes.Axes.contour(self, *args, **kwargs)\n"
     ]
    },
    {
     "name": "stdout",
     "output_type": "stream",
     "text": [
      "plot saved: /home/franzihe/Documents/Figures/Weathermaps/MSLP_Thickness_Jet/Norway/meps_2_5_km_20200220T09Z_21.png\n",
      "plot saved: /home/franzihe/Documents/Figures/Weathermaps/850hPa_U_T/Norway/meps_2_5_km_20200220T09Z_21.png\n",
      "plot saved: /home/franzihe/Documents/Figures/Weathermaps/700hPa_RH_T/Andoya/meps_2_5_km_20200220T09Z_24.png\n"
     ]
    },
    {
     "name": "stderr",
     "output_type": "stream",
     "text": [
      "/home/franzihe/anaconda3/envs/weathermap/lib/python3.7/site-packages/cartopy/mpl/geoaxes.py:1366: UserWarning: No contour levels were found within the data range.\n",
      "  result = matplotlib.axes.Axes.contour(self, *args, **kwargs)\n"
     ]
    },
    {
     "name": "stdout",
     "output_type": "stream",
     "text": [
      "plot saved: /home/franzihe/Documents/Figures/Weathermaps/MSLP_Thickness_Jet/Andoya/meps_2_5_km_20200220T09Z_24.png\n",
      "plot saved: /home/franzihe/Documents/Figures/Weathermaps/850hPa_U_T/Andoya/meps_2_5_km_20200220T09Z_24.png\n",
      "plot saved: /home/franzihe/Documents/Figures/Weathermaps/700hPa_RH_T/Norway/meps_2_5_km_20200220T09Z_24.png\n",
      "plot saved: /home/franzihe/Documents/Figures/Weathermaps/MSLP_Thickness_Jet/Norway/meps_2_5_km_20200220T09Z_24.png\n",
      "plot saved: /home/franzihe/Documents/Figures/Weathermaps/850hPa_U_T/Norway/meps_2_5_km_20200220T09Z_24.png\n",
      "plot saved: /home/franzihe/Documents/Figures/Weathermaps/700hPa_RH_T/Andoya/meps_2_5_km_20200220T09Z_27.png\n"
     ]
    },
    {
     "name": "stderr",
     "output_type": "stream",
     "text": [
      "/home/franzihe/anaconda3/envs/weathermap/lib/python3.7/site-packages/cartopy/mpl/geoaxes.py:1366: UserWarning: No contour levels were found within the data range.\n",
      "  result = matplotlib.axes.Axes.contour(self, *args, **kwargs)\n"
     ]
    },
    {
     "name": "stdout",
     "output_type": "stream",
     "text": [
      "plot saved: /home/franzihe/Documents/Figures/Weathermaps/MSLP_Thickness_Jet/Andoya/meps_2_5_km_20200220T09Z_27.png\n",
      "plot saved: /home/franzihe/Documents/Figures/Weathermaps/850hPa_U_T/Andoya/meps_2_5_km_20200220T09Z_27.png\n",
      "plot saved: /home/franzihe/Documents/Figures/Weathermaps/700hPa_RH_T/Norway/meps_2_5_km_20200220T09Z_27.png\n",
      "plot saved: /home/franzihe/Documents/Figures/Weathermaps/MSLP_Thickness_Jet/Norway/meps_2_5_km_20200220T09Z_27.png\n",
      "plot saved: /home/franzihe/Documents/Figures/Weathermaps/850hPa_U_T/Norway/meps_2_5_km_20200220T09Z_27.png\n",
      "plot saved: /home/franzihe/Documents/Figures/Weathermaps/700hPa_RH_T/Andoya/meps_2_5_km_20200220T09Z_30.png\n"
     ]
    },
    {
     "name": "stderr",
     "output_type": "stream",
     "text": [
      "/home/franzihe/anaconda3/envs/weathermap/lib/python3.7/site-packages/cartopy/mpl/geoaxes.py:1366: UserWarning: No contour levels were found within the data range.\n",
      "  result = matplotlib.axes.Axes.contour(self, *args, **kwargs)\n"
     ]
    },
    {
     "name": "stdout",
     "output_type": "stream",
     "text": [
      "plot saved: /home/franzihe/Documents/Figures/Weathermaps/MSLP_Thickness_Jet/Andoya/meps_2_5_km_20200220T09Z_30.png\n",
      "plot saved: /home/franzihe/Documents/Figures/Weathermaps/850hPa_U_T/Andoya/meps_2_5_km_20200220T09Z_30.png\n",
      "plot saved: /home/franzihe/Documents/Figures/Weathermaps/700hPa_RH_T/Norway/meps_2_5_km_20200220T09Z_30.png\n",
      "plot saved: /home/franzihe/Documents/Figures/Weathermaps/MSLP_Thickness_Jet/Norway/meps_2_5_km_20200220T09Z_30.png\n",
      "plot saved: /home/franzihe/Documents/Figures/Weathermaps/850hPa_U_T/Norway/meps_2_5_km_20200220T09Z_30.png\n",
      "plot saved: /home/franzihe/Documents/Figures/Weathermaps/700hPa_RH_T/Andoya/meps_2_5_km_20200220T09Z_33.png\n"
     ]
    },
    {
     "name": "stderr",
     "output_type": "stream",
     "text": [
      "/home/franzihe/anaconda3/envs/weathermap/lib/python3.7/site-packages/cartopy/mpl/geoaxes.py:1366: UserWarning: No contour levels were found within the data range.\n",
      "  result = matplotlib.axes.Axes.contour(self, *args, **kwargs)\n"
     ]
    },
    {
     "name": "stdout",
     "output_type": "stream",
     "text": [
      "plot saved: /home/franzihe/Documents/Figures/Weathermaps/MSLP_Thickness_Jet/Andoya/meps_2_5_km_20200220T09Z_33.png\n",
      "plot saved: /home/franzihe/Documents/Figures/Weathermaps/850hPa_U_T/Andoya/meps_2_5_km_20200220T09Z_33.png\n",
      "plot saved: /home/franzihe/Documents/Figures/Weathermaps/700hPa_RH_T/Norway/meps_2_5_km_20200220T09Z_33.png\n",
      "plot saved: /home/franzihe/Documents/Figures/Weathermaps/MSLP_Thickness_Jet/Norway/meps_2_5_km_20200220T09Z_33.png\n",
      "plot saved: /home/franzihe/Documents/Figures/Weathermaps/850hPa_U_T/Norway/meps_2_5_km_20200220T09Z_33.png\n",
      "plot saved: /home/franzihe/Documents/Figures/Weathermaps/700hPa_RH_T/Andoya/meps_2_5_km_20200220T09Z_36.png\n"
     ]
    },
    {
     "name": "stderr",
     "output_type": "stream",
     "text": [
      "/home/franzihe/anaconda3/envs/weathermap/lib/python3.7/site-packages/cartopy/mpl/geoaxes.py:1366: UserWarning: No contour levels were found within the data range.\n",
      "  result = matplotlib.axes.Axes.contour(self, *args, **kwargs)\n"
     ]
    },
    {
     "name": "stdout",
     "output_type": "stream",
     "text": [
      "plot saved: /home/franzihe/Documents/Figures/Weathermaps/MSLP_Thickness_Jet/Andoya/meps_2_5_km_20200220T09Z_36.png\n",
      "plot saved: /home/franzihe/Documents/Figures/Weathermaps/850hPa_U_T/Andoya/meps_2_5_km_20200220T09Z_36.png\n",
      "plot saved: /home/franzihe/Documents/Figures/Weathermaps/700hPa_RH_T/Norway/meps_2_5_km_20200220T09Z_36.png\n",
      "plot saved: /home/franzihe/Documents/Figures/Weathermaps/MSLP_Thickness_Jet/Norway/meps_2_5_km_20200220T09Z_36.png\n",
      "plot saved: /home/franzihe/Documents/Figures/Weathermaps/850hPa_U_T/Norway/meps_2_5_km_20200220T09Z_36.png\n"
     ]
    }
   ],
   "source": [
    "for forecast_in_hours in range(0,39,3):\n",
    "    \n",
    "    if forecast_in_hours < 10:\n",
    "        forecast_in_hours = '0%s' %forecast_in_hours\n",
    "#    print(int(forecast_in_hours))\n",
    "    fig_name = 'meps_2_5_km_%sT%sZ_%s.%s' %(date,ini_time,forecast_in_hours, form)\n",
    "#################################################################################\n",
    "    map_area = 'Andoya'\n",
    "    \n",
    "#################################################################################\n",
    "    ### 700hP - Temp - RH\n",
    "    fct.plt_700_humidity(fnx, fnx.geopotential_pl.sel(pressure = 700.,\n",
    "                                             x = slice(lower_x, upper_x),\n",
    "                                             y = slice(lower_y, upper_y)).isel(time=int(forecast_in_hours))/100, \n",
    "                     fnx.air_temperature_pl.sel(pressure = 700.,\n",
    "                                                x = slice(lower_x, upper_x),\n",
    "                                                y = slice(lower_y, upper_y)).isel(time = int(forecast_in_hours)) - 273.15, \n",
    "                     fnx.relative_humidity_pl.sel(pressure = 700.,\n",
    "                                                  x = slice(lower_x, upper_x),\n",
    "                                                  y = slice(lower_y, upper_y)).isel(time = int(forecast_in_hours))*100, \n",
    "                     andenes_x, andenes_y)\n",
    "\n",
    "    if savefig == 1:\n",
    "        fct.createFolder('%s/700hPa_RH_T/%s/' %(figdir,map_area))\n",
    "        plt.savefig('%s/700hPa_RH_T/%s/%s' %(figdir, map_area, fig_name), format = form, bbox_inches='tight', transparent=True)\n",
    "        print('plot saved: %s/700hPa_RH_T/%s/%s' %(figdir, map_area, fig_name))\n",
    "    plt.close()\n",
    "\n",
    "#################################################################################    \n",
    "\n",
    "    # convert Geopotential to height\n",
    "    # https://en.wikipedia.org/wiki/Geopotential\n",
    "    a = 6.378*10**6     # average radius of the earth  [m]\n",
    "    G = 6.673*10**(-11) # gravitational constant       [Nm2/kg2]\n",
    "    ma = 5.975*10**24   #  mass of the earth           [kg]\n",
    "\n",
    "    Z_1000 = (-a**2 * fnx.geopotential_pl.sel(pressure = 1000.,).isel(time = int(forecast_in_hours)))/\\\n",
    "             (a * fnx.geopotential_pl.sel(pressure = 1000.,).isel(time = int(forecast_in_hours)) - G * ma)\n",
    "\n",
    "    Z_500 = (-a**2 * fnx.geopotential_pl.sel(pressure = 500.,).isel(time = int(forecast_in_hours)))/\\\n",
    "             (a * fnx.geopotential_pl.sel(pressure = 500.,).isel(time = int(forecast_in_hours)) - G * ma)\n",
    "\n",
    "    Z_thickness = (Z_500 - Z_1000)/10\n",
    "\n",
    "    ########################################    \n",
    "    ### Jet - Thickness - MSLP    \n",
    "    fct.plt_Jet_Thick_MSLP(fnx, np.sqrt(fnx.x_wind_pl.sel(pressure = 250.,x = slice(lower_x, upper_x),y = slice(lower_y, upper_y)).isel(time = int(forecast_in_hours))**2 + \\\n",
    "                                        fnx.y_wind_pl.sel(pressure = 250.,x = slice(lower_x, upper_x),y = slice(lower_y, upper_y)).isel(time = int(forecast_in_hours))**2),\n",
    "                       fnx.air_pressure_at_sea_level.sel(height_above_msl = 0, x = slice(lower_x, upper_x),y = slice(lower_y, upper_y)).isel(time = int(forecast_in_hours))/100, \n",
    "                       Z_thickness.sel(x = slice(lower_x, upper_x),y = slice(lower_y, upper_y)),\n",
    "                       fnx.lwe_thickness_of_atmosphere_mass_content_of_water_vapor.sel(surface = 0, x = slice(lower_x, upper_x),y = slice(lower_y, upper_y)).isel(time = int(forecast_in_hours)),\n",
    "                       andenes_x, andenes_y)\n",
    "    if savefig == 1:\n",
    "        fct.createFolder('%s/MSLP_Thickness_Jet/%s/' %(figdir,map_area))\n",
    "        plt.savefig('%s/MSLP_Thickness_Jet/%s/%s' %(figdir, map_area, fig_name), format = form, bbox_inches='tight', transparent=True)\n",
    "        print('plot saved: %s/MSLP_Thickness_Jet/%s/%s' %(figdir, map_area, fig_name))\n",
    "    plt.close()\n",
    "#################################################################################    \n",
    "\n",
    "    ### 850hP - temperature - wind\n",
    "    XX, YY = np.meshgrid(fnx.x.sel(x = slice(lower_x, upper_x)), \n",
    "                         fnx.y.sel(y = slice(lower_y, upper_y)))\n",
    "    fct.plt_temp_wind_850(fnx, fnx.air_temperature_pl.sel(pressure = 850.,x = slice(lower_x, upper_x),y = slice(lower_y, upper_y)).isel(time = int(forecast_in_hours)) - 273.15,\n",
    "                          fnx.x_wind_pl.sel(pressure = 850.,x = slice(lower_x, upper_x),y = slice(lower_y, upper_y)).isel(time = int(forecast_in_hours)),\n",
    "                          fnx.y_wind_pl.sel(pressure = 850.,x = slice(lower_x, upper_x),y = slice(lower_y, upper_y)).isel(time = int(forecast_in_hours)),\n",
    "                          XX, YY,\n",
    "                          andenes_x, andenes_y)\n",
    "\n",
    "    if savefig == 1:\n",
    "        fct.createFolder('%s/850hPa_U_T/%s/' %(figdir,map_area))\n",
    "        plt.savefig('%s/850hPa_U_T/%s/%s' %(figdir, map_area, fig_name), format = form, bbox_inches='tight', transparent=True)\n",
    "        print('plot saved: %s/850hPa_U_T/%s/%s' %(figdir, map_area, fig_name))\n",
    "    plt.close()\n",
    "#################################################################################    \n",
    "\n",
    "\n",
    "    map_area = 'Norway'\n",
    "#################################################################################    \n",
    "\n",
    "    ### 700hP - Temp - RH\n",
    "    fct.plt_700_humidity(fnx, fnx.geopotential_pl.sel(pressure = 700.,).isel(time=int(forecast_in_hours))/100, \n",
    "                     fnx.air_temperature_pl.sel(pressure = 700.,).isel(time = int(forecast_in_hours)) - 273.15, \n",
    "                     fnx.relative_humidity_pl.sel(pressure = 700.,).isel(time = int(forecast_in_hours))*100, \n",
    "                     andenes_x, andenes_y)\n",
    "\n",
    "    if savefig == 1:\n",
    "        fct.createFolder('%s/700hPa_RH_T/%s/' %(figdir,map_area))\n",
    "        plt.savefig('%s/700hPa_RH_T/%s/%s' %(figdir, map_area, fig_name), format = form, bbox_inches='tight', transparent=True)\n",
    "        print('plot saved: %s/700hPa_RH_T/%s/%s' %(figdir, map_area, fig_name))\n",
    "    plt.close()\n",
    "#################################################################################    \n",
    "\n",
    "    fct.plt_Jet_Thick_MSLP(fnx, np.sqrt(fnx.x_wind_pl.sel(pressure = 250.,).isel(time = int(forecast_in_hours))**2 + fnx.y_wind_pl.sel(pressure = 250.,).isel(time = int(forecast_in_hours))**2), \n",
    "                       fnx.air_pressure_at_sea_level.sel(height_above_msl = 0).isel(time = int(forecast_in_hours))/100, \n",
    "                       Z_thickness, \n",
    "                       fnx.lwe_thickness_of_atmosphere_mass_content_of_water_vapor.sel(surface = 0).isel(time = int(forecast_in_hours)), \n",
    "                       andenes_x, andenes_y)\n",
    "\n",
    "    if savefig == 1:\n",
    "        fct.createFolder('%s/MSLP_Thickness_Jet/%s/' %(figdir,map_area))\n",
    "        plt.savefig('%s/MSLP_Thickness_Jet/%s/%s' %(figdir, map_area, fig_name), format = form, bbox_inches='tight', transparent=True)\n",
    "        print('plot saved: %s/MSLP_Thickness_Jet/%s/%s' %(figdir, map_area, fig_name))\n",
    "    plt.close()\n",
    "#################################################################################\n",
    "\n",
    "    XX, YY = np.meshgrid(fnx.x, fnx.y)\n",
    "    fct.plt_temp_wind_850(fnx, fnx.air_temperature_pl.sel(pressure = 850,).isel(time = int(forecast_in_hours)) - 273.15,\n",
    "                          fnx.x_wind_pl.sel(pressure = 850,).isel(time = int(forecast_in_hours)),\n",
    "                          fnx.y_wind_pl.sel(pressure = 850,).isel(time = int(forecast_in_hours)),\n",
    "                          XX, YY,\n",
    "                          andenes_x, andenes_y)\n",
    "\n",
    "    if savefig == 1:\n",
    "        fct.createFolder('%s/850hPa_U_T/%s/' %(figdir,map_area))\n",
    "        plt.savefig('%s/850hPa_U_T/%s/%s' %(figdir, map_area, fig_name), format = form, bbox_inches='tight', transparent=True)\n",
    "        print('plot saved: %s/850hPa_U_T/%s/%s' %(figdir, map_area, fig_name))\n",
    "    plt.close()"
   ]
  },
  {
   "cell_type": "code",
   "execution_count": null,
   "metadata": {},
   "outputs": [],
   "source": [
    "fnx.close()"
   ]
  }
 ],
 "metadata": {
  "jupytext": {
   "encoding": "# -*- coding: utf-8 -*-",
   "formats": "ipynb,py:light"
  },
  "kernelspec": {
   "display_name": "Python 3",
   "language": "python",
   "name": "python3"
  },
  "language_info": {
   "codemirror_mode": {
    "name": "ipython",
    "version": 3
   },
   "file_extension": ".py",
   "mimetype": "text/x-python",
   "name": "python",
   "nbconvert_exporter": "python",
   "pygments_lexer": "ipython3",
   "version": "3.7.6"
  }
 },
 "nbformat": 4,
 "nbformat_minor": 4
}
